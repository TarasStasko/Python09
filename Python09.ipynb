{
  "nbformat": 4,
  "nbformat_minor": 0,
  "metadata": {
    "colab": {
      "provenance": [],
      "authorship_tag": "ABX9TyOZJWNxAKdYAnPSvjztmhBc",
      "include_colab_link": true
    },
    "kernelspec": {
      "name": "python3",
      "display_name": "Python 3"
    },
    "language_info": {
      "name": "python"
    }
  },
  "cells": [
    {
      "cell_type": "markdown",
      "metadata": {
        "id": "view-in-github",
        "colab_type": "text"
      },
      "source": [
        "<a href=\"https://colab.research.google.com/github/TarasStasko/Python09/blob/main/Python09.ipynb\" target=\"_parent\"><img src=\"https://colab.research.google.com/assets/colab-badge.svg\" alt=\"Open In Colab\"/></a>"
      ]
    },
    {
      "cell_type": "code",
      "execution_count": null,
      "metadata": {
        "id": "AIEl4Zrcs4Hf"
      },
      "outputs": [],
      "source": [
        "import pandas as pd\n",
        "import numpy as np"
      ]
    },
    {
      "cell_type": "code",
      "source": [
        "import pandas as pd\n",
        "import numpy as np\n",
        "\n",
        "data = {\n",
        "    'Last Name': ['Ivanov', 'Petrov', 'Sidorov', 'Kovalchuk', 'Smirnov'],\n",
        "    'First Name': ['Oleg', 'Maria', 'Igor', 'Anna', 'Dmitry'],\n",
        "    'Date of Birth': ['1990-05-25', '1985-12-10', '1978-07-15', '1992-03-20', '1980-09-05'],\n",
        "    'Body Weight': [75.5, 63.2, 81.7, np.nan, 70.0],\n",
        "    'Health Insurance': ['Yes', 'Yes', 'No', 'Yes', 'No']\n",
        "}\n",
        "\n",
        "df = pd.DataFrame(data)\n",
        "\n",
        "print(df.dtypes)\n"
      ],
      "metadata": {
        "id": "OyNIPkwZt7IO"
      },
      "execution_count": null,
      "outputs": []
    },
    {
      "cell_type": "code",
      "source": [
        "import pandas as pd\n",
        "\n",
        "df = pd.read_csv(\"missile_attacks_daily.csv\")\n",
        "\n",
        "print(df)\n"
      ],
      "metadata": {
        "id": "dNEbkjZbwOoc"
      },
      "execution_count": null,
      "outputs": []
    },
    {
      "cell_type": "code",
      "source": [
        "import pandas as pd\n",
        "\n",
        "df = pd.read_csv(\"missile_attacks_daily.csv\")\n",
        "\n",
        "print(df.head(10))\n"
      ],
      "metadata": {
        "id": "A0nuSAV5wcWT"
      },
      "execution_count": null,
      "outputs": []
    },
    {
      "cell_type": "code",
      "source": [
        "import pandas as pd\n",
        "\n",
        "df = pd.read_csv(\"missile_attacks_daily.csv\")\n",
        "\n",
        "shape_info = df.shape\n",
        "print(\"Number of rows:\", shape_info[0])\n",
        "print(\"Number of columns:\", shape_info[1])\n"
      ],
      "metadata": {
        "id": "fczNZ6MWwviG"
      },
      "execution_count": null,
      "outputs": []
    },
    {
      "cell_type": "code",
      "source": [
        "import pandas as pd\n",
        "\n",
        "df = pd.read_csv(\"missile_attacks_daily.csv\")\n",
        "\n",
        "column_info = df.info()\n",
        "print(column_info)\n"
      ],
      "metadata": {
        "id": "6iQqx783wwoD"
      },
      "execution_count": null,
      "outputs": []
    },
    {
      "cell_type": "code",
      "source": [
        "import pandas as pd\n",
        "\n",
        "df = pd.read_csv(\"missile_attacks_daily.csv\")\n",
        "\n",
        "numerical_stats = df.describe()\n",
        "print(numerical_stats)\n"
      ],
      "metadata": {
        "colab": {
          "base_uri": "https://localhost:8080/"
        },
        "id": "XGoogT0HxBIS",
        "outputId": "ed8f1a43-5e1d-4ea8-8bb0-995e541be009"
      },
      "execution_count": null,
      "outputs": [
        {
          "output_type": "stream",
          "name": "stdout",
          "text": [
            "         launched   destroyed\n",
            "count  858.000000  861.000000\n",
            "mean     9.083916    7.038328\n",
            "std     12.747066   11.021002\n",
            "min      1.000000    0.000000\n",
            "25%      1.000000    1.000000\n",
            "50%      4.000000    2.000000\n",
            "75%     12.000000   10.000000\n",
            "max     96.000000   87.000000\n"
          ]
        }
      ]
    },
    {
      "cell_type": "code",
      "source": [
        "import pandas as pd\n",
        "\n",
        "df = pd.read_csv(\"missile_attacks_daily.csv\")\n",
        "\n",
        "unique_counts = df.nunique()\n",
        "print(unique_counts)\n"
      ],
      "metadata": {
        "id": "gHsvgUvtxJ2g"
      },
      "execution_count": null,
      "outputs": []
    },
    {
      "cell_type": "code",
      "source": [
        "import pandas as pd\n",
        "\n",
        "df = pd.read_csv(\"missile_attacks_daily.csv\")\n",
        "\n",
        "min_unique_column = df.nunique().idxmin()\n",
        "\n",
        "value_counts_min_unique = df[min_unique_column].value_counts()\n",
        "\n",
        "print(value_counts_min_unique)\n"
      ],
      "metadata": {
        "id": "RR8E6GIqyGSs"
      },
      "execution_count": null,
      "outputs": []
    },
    {
      "cell_type": "markdown",
      "source": [
        "1. Перевірка і правильне визначення типів даних для кожної колонки.\n",
        "2. Перевірка кількості унікальних значень у кожній колонці.\n",
        "3. Перевірка на наявність зайвих або дубльованих даних.\n",
        "4. Пошук і виправлення будь-яких помилок чи неузгодженостей у даних."
      ],
      "metadata": {
        "id": "1XKpCgeCzggZ"
      }
    },
    {
      "cell_type": "code",
      "source": [
        "import pandas as pd\n",
        "\n",
        "df = pd.read_csv(\"missile_attacks_daily.csv\")\n",
        "\n",
        "df['launched'] = df['launched'].astype('Int64')\n",
        "\n",
        "print(df.dtypes)\n"
      ],
      "metadata": {
        "id": "6G9xiH140DAV"
      },
      "execution_count": null,
      "outputs": []
    },
    {
      "cell_type": "code",
      "source": [
        "import pandas as pd\n",
        "\n",
        "df = pd.read_csv(\"missile_attacks_daily.csv\")\n",
        "\n",
        "total_records = len(df)\n",
        "\n",
        "threshold = 0.3 * total_records\n",
        "\n",
        "for column in df.columns:\n",
        "    non_null_count = df[column].count()\n",
        "    if non_null_count < threshold:\n",
        "        df.drop(column, axis=1, inplace=True)\n",
        "\n",
        "print(df.head())\n"
      ],
      "metadata": {
        "id": "61h0JQz301ZQ"
      },
      "execution_count": null,
      "outputs": []
    },
    {
      "cell_type": "code",
      "source": [
        "import pandas as pd\n",
        "\n",
        "df = pd.read_csv(\"missile_attacks_daily.csv\")\n",
        "\n",
        "rows_before = len(df)\n",
        "\n",
        "df.drop_duplicates(inplace=True)\n",
        "\n",
        "df['time_start'] = pd.to_datetime(df['time_start'], errors='coerce')\n",
        "df['time_end'] = pd.to_datetime(df['time_end'], errors='coerce')\n",
        "\n",
        "df = df[df['time_end'] > df['time_start']]\n",
        "\n",
        "df.reset_index(drop=True, inplace=True)\n",
        "\n",
        "rows_after = len(df)\n",
        "\n",
        "rows_deleted = rows_before - rows_after\n",
        "\n",
        "print(f\"Number of rows deleted: {rows_deleted}\")\n"
      ],
      "metadata": {
        "id": "_n2Oyb2T4yqH"
      },
      "execution_count": null,
      "outputs": []
    },
    {
      "cell_type": "code",
      "source": [
        "import pandas as pd\n",
        "\n",
        "df = pd.read_csv(\"missile_attacks_daily.csv\")\n",
        "\n",
        "rows_with_missing_values = df[df.isnull().any(axis=1)]\n",
        "\n",
        "print(rows_with_missing_values)\n"
      ],
      "metadata": {
        "id": "oi3IMBkx6Ka_"
      },
      "execution_count": null,
      "outputs": []
    },
    {
      "cell_type": "code",
      "source": [
        "import pandas as pd\n",
        "\n",
        "df = pd.read_csv(\"missile_attacks_daily.csv\")\n",
        "\n",
        "df['destruction_rate'] = (df['destroyed'] / df['launched']) * 100\n",
        "\n",
        "average_destruction_rate = df['destruction_rate'].mean()\n",
        "\n",
        "print(f\"Average destruction rate: {average_destruction_rate:.2f}%\")\n"
      ],
      "metadata": {
        "id": "cZDKL6R1598q",
        "outputId": "01635f12-612c-4b77-aff6-59532fa07608",
        "colab": {
          "base_uri": "https://localhost:8080/"
        }
      },
      "execution_count": 2,
      "outputs": [
        {
          "output_type": "stream",
          "name": "stdout",
          "text": [
            "Average destruction rate: 74.90%\n"
          ]
        }
      ]
    },
    {
      "cell_type": "code",
      "source": [
        "import pandas as pd\n",
        "\n",
        "df = pd.read_csv(\"missile_attacks_daily.csv\")\n",
        "\n",
        "device_counts = df.groupby('model')['launched'].sum().reset_index()\n",
        "\n",
        "top_models = device_counts.sort_values(by='launched', ascending=False).head(10)\n",
        "\n",
        "top_models.to_json(\"top_models.json\", orient='records')\n",
        "\n",
        "print(top_models)\n"
      ],
      "metadata": {
        "id": "3M3bcym76oh8"
      },
      "execution_count": null,
      "outputs": []
    },
    {
      "cell_type": "markdown",
      "source": [
        "[{\"model\":\"Shahed-136\\/131\",\"launched\":4665.0},{\"model\":\"X-101\\/X-555\",\"launched\":1097.0},{\"model\":\"X-101\\/X-555 and Kalibr\",\"launched\":340.0},{\"model\":\"Kalibr\",\"launched\":286.0},{\"model\":\"C-300\",\"launched\":234.0},{\"model\":\"X-59\",\"launched\":166.0},{\"model\":\"X-22\",\"launched\":114.0},{\"model\":\"Lancet\",\"launched\":92.0},{\"model\":\"X-101\\/X-555 and X-22 and Kalibr\",\"launched\":72.0},{\"model\":\"X-47 Kinzhal\",\"launched\":70.0}]"
      ],
      "metadata": {
        "id": "r7A-M8jd7Ofu"
      }
    },
    {
      "cell_type": "code",
      "source": [
        "import pandas as pd\n",
        "\n",
        "df = pd.read_csv(\"missile_attacks_daily.csv\")\n",
        "\n",
        "df['time_start'] = pd.to_datetime(df['time_start'], errors='coerce')\n",
        "\n",
        "df = df.dropna(subset=['time_start'])\n",
        "\n",
        "attacks_by_day = df[df['destroyed'] == 0].groupby(df['time_start'].dt.date)['destroyed'].count()\n",
        "\n",
        "most_successful_day = attacks_by_day.idxmax()\n",
        "max_attacks = attacks_by_day.max()\n",
        "\n",
        "print(f\"Most successful day: {most_successful_day}\")\n",
        "print(f\"Number of successful attacks on this day: {max_attacks}\")\n"
      ],
      "metadata": {
        "colab": {
          "base_uri": "https://localhost:8080/"
        },
        "id": "Ihp6mGzC7XkZ",
        "outputId": "7840c0ad-f9a0-45f0-fa25-8b15b0db901b"
      },
      "execution_count": 3,
      "outputs": [
        {
          "output_type": "stream",
          "name": "stdout",
          "text": [
            "Most successful day: 2023-03-09\n",
            "Number of successful attacks on this day: 5\n"
          ]
        }
      ]
    },
    {
      "cell_type": "code",
      "source": [
        "import pandas as pd\n",
        "\n",
        "df = pd.read_csv(\"missile_attacks_daily.csv\")\n",
        "\n",
        "df = df[pd.to_datetime(df['time_start'], errors='coerce').notnull()]\n",
        "df = df[pd.to_datetime(df['time_end'], errors='coerce').notnull()]\n",
        "\n",
        "df = df[pd.to_datetime(df['time_start']) < pd.to_datetime(df['time_end'])]\n",
        "\n",
        "df['time_start'] = pd.to_datetime(df['time_start'])\n",
        "df['time_end'] = pd.to_datetime(df['time_end'])\n",
        "df['attack_duration'] = (df['time_end'] - df['time_start']).dt.total_seconds() / 60\n",
        "\n",
        "df['year'] = df['time_start'].dt.year\n",
        "df['month'] = df['time_start'].dt.month\n",
        "\n",
        "result = df.groupby(['year', 'month'])['attack_duration'].agg(['max', 'min']).reset_index()\n",
        "\n",
        "result.to_csv(\"attack_durations_per_month.csv\", index=False)\n",
        "\n",
        "print(result)\n"
      ],
      "metadata": {
        "colab": {
          "base_uri": "https://localhost:8080/"
        },
        "id": "-8CQDvjh8KKL",
        "outputId": "573cbf01-1258-483f-a974-44c7d922f908"
      },
      "execution_count": 4,
      "outputs": [
        {
          "output_type": "stream",
          "name": "stdout",
          "text": [
            "    year  month     max    min\n",
            "0   2022      9    59.0   59.0\n",
            "1   2022     10   600.0   30.0\n",
            "2   2022     11   180.0   60.0\n",
            "3   2022     12   555.0   60.0\n",
            "4   2023      1   480.0  180.0\n",
            "5   2023      2   850.0  125.0\n",
            "6   2023      3   270.0  130.0\n",
            "7   2023      4  2070.0  120.0\n",
            "8   2023      5   510.0   30.0\n",
            "9   2023      6   480.0  150.0\n",
            "10  2023      7   480.0   90.0\n",
            "11  2023      8   480.0   30.0\n",
            "12  2023      9   480.0  330.0\n",
            "13  2023     10   540.0   60.0\n",
            "14  2023     11   540.0  120.0\n",
            "15  2023     12   780.0   60.0\n",
            "16  2024      1   720.0   70.0\n",
            "17  2024      2   480.0  480.0\n",
            "18  2024      3   480.0  240.0\n"
          ]
        }
      ]
    }
  ]
}